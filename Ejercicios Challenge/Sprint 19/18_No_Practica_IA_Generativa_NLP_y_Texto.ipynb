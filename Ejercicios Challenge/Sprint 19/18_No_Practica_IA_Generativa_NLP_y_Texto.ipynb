{
  "cells": [
    {
      "cell_type": "markdown",
      "metadata": {
        "id": "TZ8-spwGrtMI"
      },
      "source": [
        "<img src=\"https://github.com/rodolso/DS_Online_Octubre24/blob/main/05_Deep_Learning/Sprint_19/Unidad_02_IA_Generativa_NLP_y_Texto/img/cabecera.png?raw=1\">"
      ]
    },
    {
      "cell_type": "markdown",
      "metadata": {},
      "source": [
        "## NO PRACTICA OBLIGATORIA: **IA Generativa en NLP y Textos**"
      ]
    },
    {
      "cell_type": "markdown",
      "metadata": {},
      "source": [
        "* La práctica obligatoria de esta unidad consiste en... **¡que no hay práctica obligatoria!**\n",
        "\n",
        "* El objetivo de esta unidad es que te familiarices con la *IA Generativa en NLP y Textos*.\n",
        "\n",
        "* **Importante**: dado que en esta unidad no hay workout o trabajo previo, **te recomendamos que revises los notebooks disponibles en el Repositorio de Teoría para que te familiarices con el material antes de la sesión en vivo y así puedas participar y resolver tus dudas**.  \n",
        "\n",
        "* Y recuerda que debes descargar este notebook en tu ordenador para poder subirlo, tal y como está ahora, a tu repositorio personal antes de la sesión en vivo para que puntúe adecuadamente y poder asistir a la sesión.  "
      ]
    }
  ],
  "metadata": {
    "accelerator": "GPU",
    "colab": {
      "gpuType": "V100",
      "provenance": []
    },
    "kernelspec": {
      "display_name": "Python 3",
      "name": "python3"
    },
    "language_info": {
      "codemirror_mode": {
        "name": "ipython",
        "version": 3
      },
      "file_extension": ".py",
      "mimetype": "text/x-python",
      "name": "python",
      "nbconvert_exporter": "python",
      "pygments_lexer": "ipython3",
      "version": "3.11.9"
    }
  },
  "nbformat": 4,
  "nbformat_minor": 0
}
