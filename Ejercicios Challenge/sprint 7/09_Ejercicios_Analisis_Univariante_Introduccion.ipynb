{
 "cells": [
  {
   "attachments": {
    "image.png": {
     "image/png": "[encoded data removed]"
    }
   },
   "cell_type": "markdown",
   "metadata": {},
   "source": [
    "![image.png](attachment:image.png)"
   ]
  },
  {
   "cell_type": "markdown",
   "metadata": {},
   "source": [
    "Para ejercitarte y afianzar lo aprendido sobre primeros pasos en el análisis de un dataset, completa los siguientes ejercicios. Recuerda que necesitarás datos que están en el directorio data que acompaña al notebook (búscalo en el repositorio de ejercicios)\n",
    "  \n",
    "La solución a los mismos se subirá a lo largo del sprint."
   ]
  },
  {
   "cell_type": "markdown",
   "metadata": {},
   "source": [
    "### Ejercicio 0\n",
    "\n",
    "\n",
    "Importa los paquetes y módulos que necesites a lo largo del notebook"
   ]
  },
  {
   "cell_type": "code",
   "execution_count": 1,
   "metadata": {},
   "outputs": [],
   "source": [
    "import pandas as pd"
   ]
  },
  {
   "cell_type": "markdown",
   "metadata": {},
   "source": [
    "### Ejercicio 1\n",
    "\n",
    "Crea una función `cardinalidad` que admita tres argumentos: un dataframe (`df_in`), un entero (`umbral_categoria`) y un float (`umbral_continua`). La función debe devolver otro dataframe con la cardinalidad (como valores diferntes) de cada columna del dataframe pasado por argumento, la cardinalidad como porcentaje de valores diferntes y una valoración de si la columna del dataframe original debería considerarse binaria, categórica, numérica discreta o numérica contínua. Para ello:\n",
    "+ Si la cardinalidad es 2, asignara \"Binaria\"\n",
    "+ Si la cardinalidad es menor que `umbral_categoria` asignara \"Categórica\"\n",
    "+ Si la cardinalidad es mayor o igual que `umbral_categoria`, entonces entra en juego el tercer argumento:\n",
    "    * Si además el porcentaje de cardinalidad es superior o igual a `umbral_continua`, asigna \"Numerica Continua\"\n",
    "    * En caso contrario, asigna \"Numerica Discreta\"\n"
   ]
  },
  {
   "cell_type": "markdown",
   "metadata": {},
   "source": [
    "### Ejercicio 2"
   ]
  },
  {
   "cell_type": "markdown",
   "metadata": {},
   "source": [
    "Carga en un dataframe los datos contenidos en la ruta \"./data/admission_data.csv\", muestra un parte de su contenido y la info general del mismo"
   ]
  },
  {
   "cell_type": "code",
   "execution_count": 12,
   "metadata": {},
   "outputs": [
    {
     "data": {
      "text/html": [
       "<div>\n",
       "<style scoped>\n",
       "    .dataframe tbody tr th:only-of-type {\n",
       "        vertical-align: middle;\n",
       "    }\n",
       "\n",
       "    .dataframe tbody tr th {\n",
       "        vertical-align: top;\n",
       "    }\n",
       "\n",
       "    .dataframe thead th {\n",
       "        text-align: right;\n",
       "    }\n",
       "</style>\n",
       "<table border=\"1\" class=\"dataframe\">\n",
       "  <thead>\n",
       "    <tr style=\"text-align: right;\">\n",
       "      <th></th>\n",
       "      <th>Unnamed: 0</th>\n",
       "      <th>Year</th>\n",
       "      <th>Major</th>\n",
       "      <th>Gender</th>\n",
       "      <th>Admission</th>\n",
       "    </tr>\n",
       "  </thead>\n",
       "  <tbody>\n",
       "    <tr>\n",
       "      <th>0</th>\n",
       "      <td>0</td>\n",
       "      <td>1973</td>\n",
       "      <td>School of Medicine</td>\n",
       "      <td>F</td>\n",
       "      <td>Rejected</td>\n",
       "    </tr>\n",
       "    <tr>\n",
       "      <th>1</th>\n",
       "      <td>1</td>\n",
       "      <td>1973</td>\n",
       "      <td>Department of Economics</td>\n",
       "      <td>M</td>\n",
       "      <td>Accepted</td>\n",
       "    </tr>\n",
       "    <tr>\n",
       "      <th>2</th>\n",
       "      <td>2</td>\n",
       "      <td>1973</td>\n",
       "      <td>Other</td>\n",
       "      <td>F</td>\n",
       "      <td>Accepted</td>\n",
       "    </tr>\n",
       "    <tr>\n",
       "      <th>3</th>\n",
       "      <td>3</td>\n",
       "      <td>1973</td>\n",
       "      <td>Other</td>\n",
       "      <td>M</td>\n",
       "      <td>Accepted</td>\n",
       "    </tr>\n",
       "    <tr>\n",
       "      <th>4</th>\n",
       "      <td>4</td>\n",
       "      <td>1973</td>\n",
       "      <td>Other</td>\n",
       "      <td>M</td>\n",
       "      <td>Rejected</td>\n",
       "    </tr>\n",
       "    <tr>\n",
       "      <th>...</th>\n",
       "      <td>...</td>\n",
       "      <td>...</td>\n",
       "      <td>...</td>\n",
       "      <td>...</td>\n",
       "      <td>...</td>\n",
       "    </tr>\n",
       "    <tr>\n",
       "      <th>12758</th>\n",
       "      <td>12758</td>\n",
       "      <td>1973</td>\n",
       "      <td>Other</td>\n",
       "      <td>M</td>\n",
       "      <td>Accepted</td>\n",
       "    </tr>\n",
       "    <tr>\n",
       "      <th>12759</th>\n",
       "      <td>12759</td>\n",
       "      <td>1973</td>\n",
       "      <td>Department of Mechanical Engineering</td>\n",
       "      <td>M</td>\n",
       "      <td>Accepted</td>\n",
       "    </tr>\n",
       "    <tr>\n",
       "      <th>12760</th>\n",
       "      <td>12760</td>\n",
       "      <td>1973</td>\n",
       "      <td>Other</td>\n",
       "      <td>F</td>\n",
       "      <td>Rejected</td>\n",
       "    </tr>\n",
       "    <tr>\n",
       "      <th>12761</th>\n",
       "      <td>12761</td>\n",
       "      <td>1973</td>\n",
       "      <td>Other</td>\n",
       "      <td>M</td>\n",
       "      <td>Rejected</td>\n",
       "    </tr>\n",
       "    <tr>\n",
       "      <th>12762</th>\n",
       "      <td>12762</td>\n",
       "      <td>1973</td>\n",
       "      <td>Other</td>\n",
       "      <td>M</td>\n",
       "      <td>Accepted</td>\n",
       "    </tr>\n",
       "  </tbody>\n",
       "</table>\n",
       "<p>12763 rows × 5 columns</p>\n",
       "</div>"
      ],
      "text/plain": [
       "       Unnamed: 0  Year                                 Major Gender Admission\n",
       "0               0  1973                    School of Medicine      F  Rejected\n",
       "1               1  1973               Department of Economics      M  Accepted\n",
       "2               2  1973                                 Other      F  Accepted\n",
       "3               3  1973                                 Other      M  Accepted\n",
       "4               4  1973                                 Other      M  Rejected\n",
       "...           ...   ...                                   ...    ...       ...\n",
       "12758       12758  1973                                 Other      M  Accepted\n",
       "12759       12759  1973  Department of Mechanical Engineering      M  Accepted\n",
       "12760       12760  1973                                 Other      F  Rejected\n",
       "12761       12761  1973                                 Other      M  Rejected\n",
       "12762       12762  1973                                 Other      M  Accepted\n",
       "\n",
       "[12763 rows x 5 columns]"
      ]
     },
     "execution_count": 12,
     "metadata": {},
     "output_type": "execute_result"
    }
   ],
   "source": [
    "df_Admission_data = pd.read_csv(\"./admission_data.csv\")\n",
    "df_Admission_data"
   ]
  },
  {
   "cell_type": "code",
   "execution_count": 46,
   "metadata": {},
   "outputs": [],
   "source": [
    "# Renombrar la columna\n",
    "df_Admission_data.rename(columns={\"Unnamed: 0\": \"indice\"}, inplace=True)\n",
    "\n",
    "# Establecer la columna renombrada como índice\n",
    "df_Admission_data.set_index(\"indice\", inplace=True)\n"
   ]
  },
  {
   "cell_type": "markdown",
   "metadata": {},
   "source": [
    "### Ejercicio 3\n",
    "\n",
    "Rellen las dos primeras columnas de la siguiente tabla con tu mejor criterio:"
   ]
  },
  {
   "cell_type": "markdown",
   "metadata": {},
   "source": [
    "\n",
    "|Columna/Variable|Descripción|Tipo_de_Variable|Importancia inicial|Nota|\n",
    "|-|-|-|-|-|\n",
    "|Col1|Se trata de la variable que mide x...|||||"
   ]
  },
  {
   "cell_type": "markdown",
   "metadata": {},
   "source": [
    "### Ejercicio 4\n",
    "\n",
    "Con ayuda de la función del ejercicio 1, completa la tercera columna (Tipo de Variable)"
   ]
  },
  {
   "cell_type": "code",
   "execution_count": 52,
   "metadata": {},
   "outputs": [
    {
     "data": {
      "text/html": [
       "<div>\n",
       "<style scoped>\n",
       "    .dataframe tbody tr th:only-of-type {\n",
       "        vertical-align: middle;\n",
       "    }\n",
       "\n",
       "    .dataframe tbody tr th {\n",
       "        vertical-align: top;\n",
       "    }\n",
       "\n",
       "    .dataframe thead th {\n",
       "        text-align: right;\n",
       "    }\n",
       "</style>\n",
       "<table border=\"1\" class=\"dataframe\">\n",
       "  <thead>\n",
       "    <tr style=\"text-align: right;\">\n",
       "      <th></th>\n",
       "      <th>Card</th>\n",
       "      <th>%_Card</th>\n",
       "      <th>Tipo_de_variable</th>\n",
       "      <th>Descripcion</th>\n",
       "      <th>importancia inicial</th>\n",
       "      <th>nota</th>\n",
       "    </tr>\n",
       "  </thead>\n",
       "  <tbody>\n",
       "    <tr>\n",
       "      <th>Year</th>\n",
       "      <td>1</td>\n",
       "      <td>0.007835</td>\n",
       "      <td>int64</td>\n",
       "      <td>año</td>\n",
       "      <td>NaN</td>\n",
       "      <td></td>\n",
       "    </tr>\n",
       "    <tr>\n",
       "      <th>Major</th>\n",
       "      <td>7</td>\n",
       "      <td>0.054846</td>\n",
       "      <td>object</td>\n",
       "      <td>Nombre de la escuela</td>\n",
       "      <td>0.0</td>\n",
       "      <td></td>\n",
       "    </tr>\n",
       "    <tr>\n",
       "      <th>Gender</th>\n",
       "      <td>2</td>\n",
       "      <td>0.01567</td>\n",
       "      <td>object</td>\n",
       "      <td>Sexo</td>\n",
       "      <td>0.0</td>\n",
       "      <td></td>\n",
       "    </tr>\n",
       "    <tr>\n",
       "      <th>Admission</th>\n",
       "      <td>2</td>\n",
       "      <td>0.01567</td>\n",
       "      <td>object</td>\n",
       "      <td>Estado de la admision</td>\n",
       "      <td>0.0</td>\n",
       "      <td></td>\n",
       "    </tr>\n",
       "  </tbody>\n",
       "</table>\n",
       "</div>"
      ],
      "text/plain": [
       "          Card    %_Card Tipo_de_variable            Descripcion  \\\n",
       "Year         1  0.007835            int64                    año   \n",
       "Major        7  0.054846           object   Nombre de la escuela   \n",
       "Gender       2   0.01567           object                   Sexo   \n",
       "Admission    2   0.01567           object  Estado de la admision   \n",
       "\n",
       "           importancia inicial nota  \n",
       "Year                       NaN       \n",
       "Major                      0.0       \n",
       "Gender                     0.0       \n",
       "Admission                  0.0       "
      ]
     },
     "execution_count": 52,
     "metadata": {},
     "output_type": "execute_result"
    }
   ],
   "source": [
    "# Crear el DataFrame base\n",
    "df_tipificacion = pd.DataFrame(\n",
    "    [\n",
    "        df_Admission_data.nunique(),\n",
    "        df_Admission_data.nunique() / len(df_Admission_data) * 100,\n",
    "        df_Admission_data.dtypes,\n",
    "    ]\n",
    ").T.rename(\n",
    "    columns={0: \"Card\", 1: \"%_Card\", 2: \"Tipo_de_variable\", 3: \"Descripcion\", 4: \"importancia inicial\", 5: \"nota\"}\n",
    ")\n",
    "\n",
    "# Añadir columnas con los tipos especificados\n",
    "df_tipificacion[\"Descripcion\"] = \"\"  # Cadenas de texto vacías\n",
    "df_tipificacion[\"importancia inicial\"] = 0  # Inicializar con enteros\n",
    "df_tipificacion[\"nota\"] = \"\"  # Cadenas de texto vacías\n",
    "\n",
    "# Convertir a tipos específicos\n",
    "df_tipificacion = df_tipificacion.astype(\n",
    "    {\n",
    "        \"Descripcion\": \"string\",\n",
    "        \"importancia inicial\": \"int\",\n",
    "        \"nota\": \"string\",\n",
    "    }\n",
    ")\n",
    "df_tipificacion.loc[\"Year\", \"Descripcion\"] = \"año\"\n",
    "df_tipificacion.loc[\"Major\", \"Descripcion\"] = \"Nombre de la escuela\"\n",
    "df_tipificacion.loc[\"Gender\", \"Descripcion\"] = \"Sexo\"\n",
    "df_tipificacion.loc[\"Admission\", \"Descripcion\"] = \"Estado de la admision\"\n",
    "\n",
    "\n",
    "df_tipificacion.loc[\"Year\", \"importancia inicial\"] = None\n",
    "df_tipificacion.loc[\"Major\", \"importancia inicial\"] = 0\n",
    "df_tipificacion.loc[\"Gender\", \"importancia inicial\"] = 0\n",
    "df_tipificacion.loc[\"Admission\", \"importancia inicial\"] = 0\n",
    "df_tipificacion"
   ]
  },
  {
   "cell_type": "markdown",
   "metadata": {},
   "source": [
    "### Ejercicio 5\n",
    "\n",
    "Si el objetivo es analizar la posible discriminación en las admisiones de los departamentos universitarios, completa las otras dos columnas con la importancia que le darías y lo que crees que deberías saber extra en el campo Nota"
   ]
  },
  {
   "cell_type": "code",
   "execution_count": null,
   "metadata": {},
   "outputs": [],
   "source": [
    "\n",
    "df_tipificacion.loc[\"Year\", \"importancia inicial\"] = None\n",
    "df_tipificacion.loc[\"Major\", \"importancia inicial\"] = 0\n",
    "df_tipificacion.loc[\"Gender\", \"importancia inicial\"] = 0\n",
    "df_tipificacion.loc[\"Admission\", \"importancia inicial\"] = 0"
   ]
  },
  {
   "cell_type": "markdown",
   "metadata": {},
   "source": [
    "### Ejercicio 6"
   ]
  },
  {
   "cell_type": "markdown",
   "metadata": {},
   "source": [
    "Carga en un dataframe el fichero con ruta \"./data/tips.csv\", muestra parte de su contenido y la información general del mismo."
   ]
  },
  {
   "cell_type": "code",
   "execution_count": null,
   "metadata": {},
   "outputs": [],
   "source": []
  },
  {
   "cell_type": "markdown",
   "metadata": {},
   "source": [
    "### Ejercicio 7\n",
    "\n",
    "Rellen las dos primeras columnas de la siguiente tabla con tu mejor criterio considerando el dataset anterior:"
   ]
  },
  {
   "cell_type": "markdown",
   "metadata": {},
   "source": [
    "\n",
    "|Columna/Variable|Descripción|Tipo_de_Variable|Importancia inicial|Nota|\n",
    "|-|-|-|-|-|\n",
    "|Col1|Se trata de la variable que mide x...|||||"
   ]
  },
  {
   "cell_type": "markdown",
   "metadata": {},
   "source": [
    "### Ejercicio 8\n",
    "\n",
    "Con ayuda de la función del ejercicio 1, completa la tercera columna (Tipo de Variable)"
   ]
  },
  {
   "cell_type": "markdown",
   "metadata": {},
   "source": []
  },
  {
   "cell_type": "markdown",
   "metadata": {},
   "source": [
    "### Ejercicio 9\n",
    "\n",
    "Si el objetivo es analizar las propinas ingresadas en un establecimiento comercial, completa las otras dos columnas con la importancia que le darías y lo que crees que deberías saber extra en el campo Nota"
   ]
  },
  {
   "cell_type": "markdown",
   "metadata": {},
   "source": []
  }
 ],
 "metadata": {
  "kernelspec": {
   "display_name": "Python 3 (ipykernel)",
   "language": "python",
   "name": "python3"
  },
  "language_info": {
   "codemirror_mode": {
    "name": "ipython",
    "version": 3
   },
   "file_extension": ".py",
   "mimetype": "text/x-python",
   "name": "python",
   "nbconvert_exporter": "python",
   "pygments_lexer": "ipython3",
   "version": "3.12.7"
  },
  "vscode": {
   "interpreter": {
    "hash": "ec2a379ed5c25334a484232182c9d38ef8bd9861e2542d0c517568c4f99a9a7c"
   }
  }
 },
 "nbformat": 4,
 "nbformat_minor": 4
}
